{
 "cells": [
  {
   "cell_type": "code",
   "execution_count": 6,
   "id": "ab952d47",
   "metadata": {},
   "outputs": [],
   "source": [
    "from qiskit import Aer, QuantumCircuit, execute\n",
    "from qiskit.visualization import plot_histogram"
   ]
  },
  {
   "cell_type": "code",
   "execution_count": 10,
   "id": "fc348411",
   "metadata": {},
   "outputs": [
    {
     "data": {
      "text/html": [
       "<pre style=\"word-wrap: normal;white-space: pre;background: #fff0;line-height: 1.1;font-family: &quot;Courier New&quot;,Courier,monospace\">     ┌─────────────────────────────┐┌─┐      \n",
       "q_0: ┤ Initialize(0.70711,0.70711) ├┤M├──────\n",
       "     ├─────────────────────────────┤└╥┘┌─┐   \n",
       "q_1: ┤ Initialize(0.70711,0.70711) ├─╫─┤M├───\n",
       "     ├─────────────────────────────┤ ║ └╥┘┌─┐\n",
       "q_2: ┤ Initialize(0.70711,0.70711) ├─╫──╫─┤M├\n",
       "     └─────────────────────────────┘ ║  ║ └╥┘\n",
       "c: 3/════════════════════════════════╩══╩══╩═\n",
       "                                     0  1  2 </pre>"
      ],
      "text/plain": [
       "     ┌─────────────────────────────┐┌─┐      \n",
       "q_0: ┤ Initialize(0.70711,0.70711) ├┤M├──────\n",
       "     ├─────────────────────────────┤└╥┘┌─┐   \n",
       "q_1: ┤ Initialize(0.70711,0.70711) ├─╫─┤M├───\n",
       "     ├─────────────────────────────┤ ║ └╥┘┌─┐\n",
       "q_2: ┤ Initialize(0.70711,0.70711) ├─╫──╫─┤M├\n",
       "     └─────────────────────────────┘ ║  ║ └╥┘\n",
       "c: 3/════════════════════════════════╩══╩══╩═\n",
       "                                     0  1  2 "
      ]
     },
     "execution_count": 10,
     "metadata": {},
     "output_type": "execute_result"
    }
   ],
   "source": [
    "qd=QuantumCircuit(3,3)\n",
    "init_st=[1/2**.5,1/2**.5]\n",
    "for i in range(3):\n",
    "    qd.initialize(init_st,i)\n",
    "    qd.measure(i,i)\n",
    "qd.draw()"
   ]
  },
  {
   "cell_type": "code",
   "execution_count": 28,
   "id": "edd90921",
   "metadata": {},
   "outputs": [
    {
     "name": "stdout",
     "output_type": "stream",
     "text": [
      "{'111': 1}\n"
     ]
    }
   ],
   "source": [
    "qc=Aer.get_backend(\"statevector_simulator\")\n"
   ]
  },
  {
   "cell_type": "code",
   "execution_count": 56,
   "id": "5430700a",
   "metadata": {},
   "outputs": [],
   "source": [
    "def roll_dice():\n",
    "    r=tuple(execute(qd,qc).result().get_counts())[0][::-1]\n",
    "    val=0\n",
    "    for i in range(3):\n",
    "        val+=int(r[i])*2**i\n",
    "    if val not in (1,2,3,4,5,6):\n",
    "        val=roll_dice()\n",
    "    return val\n",
    "        "
   ]
  },
  {
   "cell_type": "code",
   "execution_count": null,
   "id": "c397ab31",
   "metadata": {},
   "outputs": [],
   "source": [
    "graph={\"1\":0,\"2\":0,\"3\":0,\"4\":0,\"5\":0,\"6\":0}\n",
    "for i in range(5000):\n",
    "    r=roll_dice()\n",
    "    graph[str(r)]+=1\n",
    "\n",
    "plot_histogram(graph)"
   ]
  }
 ],
 "metadata": {
  "kernelspec": {
   "display_name": "Python 3",
   "language": "python",
   "name": "python3"
  },
  "language_info": {
   "codemirror_mode": {
    "name": "ipython",
    "version": 3
   },
   "file_extension": ".py",
   "mimetype": "text/x-python",
   "name": "python",
   "nbconvert_exporter": "python",
   "pygments_lexer": "ipython3",
   "version": "3.8.8"
  }
 },
 "nbformat": 4,
 "nbformat_minor": 5
}
