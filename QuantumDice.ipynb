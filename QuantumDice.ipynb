{
 "cells": [
  {
   "cell_type": "code",
   "execution_count": 1,
   "id": "6ced69f1",
   "metadata": {},
   "outputs": [],
   "source": [
    "from qiskit import Aer, QuantumCircuit, execute\n",
    "from qiskit.visualization import plot_histogram"
   ]
  },
  {
   "cell_type": "code",
   "execution_count": 2,
   "id": "75d91879",
   "metadata": {
    "scrolled": true
   },
   "outputs": [
    {
     "data": {
      "text/html": [
       "<pre style=\"word-wrap: normal;white-space: pre;background: #fff0;line-height: 1.1;font-family: &quot;Courier New&quot;,Courier,monospace\">     ┌───┐┌─┐      \n",
       "q_0: ┤ H ├┤M├──────\n",
       "     ├───┤└╥┘┌─┐   \n",
       "q_1: ┤ H ├─╫─┤M├───\n",
       "     ├───┤ ║ └╥┘┌─┐\n",
       "q_2: ┤ H ├─╫──╫─┤M├\n",
       "     └───┘ ║  ║ └╥┘\n",
       "c: 3/══════╩══╩══╩═\n",
       "           0  1  2 </pre>"
      ],
      "text/plain": [
       "     ┌───┐┌─┐      \n",
       "q_0: ┤ H ├┤M├──────\n",
       "     ├───┤└╥┘┌─┐   \n",
       "q_1: ┤ H ├─╫─┤M├───\n",
       "     ├───┤ ║ └╥┘┌─┐\n",
       "q_2: ┤ H ├─╫──╫─┤M├\n",
       "     └───┘ ║  ║ └╥┘\n",
       "c: 3/══════╩══╩══╩═\n",
       "           0  1  2 "
      ]
     },
     "execution_count": 2,
     "metadata": {},
     "output_type": "execute_result"
    }
   ],
   "source": [
    "qd=QuantumCircuit(3,3)\n",
    "for i in range(3):\n",
    "    qd.h(i)\n",
    "    qd.measure(i,i)\n",
    "qd.draw()"
   ]
  },
  {
   "cell_type": "code",
   "execution_count": 3,
   "id": "dc274e3f",
   "metadata": {},
   "outputs": [],
   "source": [
    "qc=Aer.get_backend(\"statevector_simulator\")"
   ]
  },
  {
   "cell_type": "code",
   "execution_count": 4,
   "id": "30f9b5d6",
   "metadata": {},
   "outputs": [],
   "source": [
    "def roll_dice():\n",
    "    r=tuple(execute(qd,qc).result().get_counts())[0][::-1]\n",
    "    val=0\n",
    "    for i in range(3):\n",
    "        val+=int(r[i])*2**i\n",
    "    if val not in (1,2,3,4,5,6):\n",
    "        val=roll_dice()\n",
    "    return val\n",
    "        "
   ]
  },
  {
   "cell_type": "code",
   "execution_count": 5,
   "id": "067c6e1b",
   "metadata": {},
   "outputs": [
    {
     "data": {
      "image/png": "[encoded data removed]",
      "text/plain": [
       "<Figure size 504x360 with 1 Axes>"
      ]
     },
     "execution_count": 5,
     "metadata": {},
     "output_type": "execute_result"
    }
   ],
   "source": [
    "graph={\"1\":0,\"2\":0,\"3\":0,\"4\":0,\"5\":0,\"6\":0}\n",
    "for i in range(5000):\n",
    "    r=roll_dice()\n",
    "    graph[str(r)]+=1\n",
    "\n",
    "plot_histogram(graph)"
   ]
  }
 ],
 "metadata": {
  "kernelspec": {
   "display_name": "Python 3",
   "language": "python",
   "name": "python3"
  },
  "language_info": {
   "codemirror_mode": {
    "name": "ipython",
    "version": 3
   },
   "file_extension": ".py",
   "mimetype": "text/x-python",
   "name": "python",
   "nbconvert_exporter": "python",
   "pygments_lexer": "ipython3",
   "version": "3.8.8"
  }
 },
 "nbformat": 4,
 "nbformat_minor": 5
}
